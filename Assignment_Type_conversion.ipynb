{
 "cells": [
  {
   "cell_type": "code",
   "execution_count": null,
   "id": "b0d7ad83",
   "metadata": {},
   "outputs": [],
   "source": [
    "# 1. convert the integer to floating point number\n",
    "x = 5\n",
    "print(type(x))\n",
    "y = float(x)\n",
    "print(y)\n",
    "print(type(y))\n",
    "\n",
    "\n",
    "# 2. convert a float to an integer\n",
    "y = 6.8\n",
    "print(type(y))\n",
    "x = int(y)\n",
    "print(x)\n",
    "print(type(x))\n",
    "\n",
    "\n",
    "\n",
    "# 3. convert an integer to string\n",
    "A = 7\n",
    "print(type(A))\n",
    "B = str(A)\n",
    "print(str(B))\n",
    "print(type(B))\n",
    "\n",
    "# 4. convert a list to tuple\n",
    "listm = [1,2,3,4,5,6]\n",
    "print(type(listm))\n",
    "listn = tuple(listm)\n",
    "print(listn)\n",
    "print(type(listn))\n",
    "\n",
    "\n",
    "# 5. convert Tuple to a list\n",
    "Tuple_1 = (1,2,3,4,5)\n",
    "print(type(Tuple_1))\n",
    "Tuple_2 = list(Tuple_1)\n",
    "print(Tuple_2)\n",
    "print(type(Tuple_2))"
   ]
  }
 ],
 "metadata": {
  "kernelspec": {
   "display_name": "Python 3 (ipykernel)",
   "language": "python",
   "name": "python3"
  },
  "language_info": {
   "codemirror_mode": {
    "name": "ipython",
    "version": 3
   },
   "file_extension": ".py",
   "mimetype": "text/x-python",
   "name": "python",
   "nbconvert_exporter": "python",
   "pygments_lexer": "ipython3",
   "version": "3.9.12"
  }
 },
 "nbformat": 4,
 "nbformat_minor": 5
}
