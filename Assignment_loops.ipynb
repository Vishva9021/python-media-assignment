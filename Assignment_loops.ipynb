{
 "cells": [
  {
   "cell_type": "code",
   "execution_count": 1,
   "id": "0574171c",
   "metadata": {},
   "outputs": [
    {
     "name": "stdout",
     "output_type": "stream",
     "text": [
      "<class 'int'>\n",
      "5.0\n",
      "<class 'float'>\n",
      "<class 'float'>\n",
      "6\n",
      "<class 'int'>\n",
      "<class 'int'>\n",
      "7\n",
      "<class 'str'>\n",
      "<class 'list'>\n",
      "(1, 2, 3, 4, 5, 6)\n",
      "<class 'tuple'>\n",
      "<class 'tuple'>\n",
      "[1, 2, 3, 4, 5]\n",
      "<class 'list'>\n"
     ]
    }
   ],
   "source": [
    "# 1. Print number from 1 to 5 ing a while loop\n",
    "count = 1\n",
    "while count <=5:\n",
    "    print(count)\n",
    "    count +=1\n",
    "\n",
    "# 2. Calculate the sum of number from 1 to 10 ing a while loop\n",
    "num = 15\n",
    "sum = 0\n",
    "while num > 0:\n",
    "    sum += num\n",
    "    num -= 1\n",
    "print(\"The sum is\", sum)\n",
    "\n",
    "# 3. Calculate the factorial of a number using a for loop\n",
    "\n",
    "n = int(input(\"Enter a number: \"))\n",
    "factorial = 1\n",
    "if n >= 1:\n",
    "    for i in range (1, n+1):\n",
    "        factorial=factorial *i\n",
    "print(\"Factorial of the given number is: \", factorial)\n",
    "\n",
    "# 4. Count the number of vowel in a string using a for loop\n",
    "def vowel_count(str):\n",
    "    count = 0\n",
    "    vowel = set(\"ASW\")\n",
    "    for alphabet in str:\n",
    "        if alphabet in vowel:\n",
    "            count = count + 1\n",
    "    print(\"No. of vowels :\", count)\n",
    "str = \"Assingment\"\n",
    "vowel_count(str)\n",
    "\n",
    "# 5.Print a pattern ing nested loop.\n",
    "for i in range(1,6):\n",
    "  for j in range(i):\n",
    "    print('*',end='')\n",
    "  print('')\n",
    "\n",
    "# 6. Generate a multiplication table using nested loop.\n",
    "table_size = 10\n",
    "print(\" \", end=\"\")\n",
    "for i in range(1, table_size + 1):\n",
    "    print(f\"{i:4}\", end=\"\")\n",
    "print(\"\\n\" + \"-\" * (table_size * 4 + 4))\n",
    "for i in range(1, table_size + 1):\n",
    "    print(f\"{i:2} |\", end=\"\")\n",
    "    for j in range(1, table_size + 1):\n",
    "        print(f\"{i * j:4}\", end=\"\")\n",
    "    print()"
   ]
  },
  {
   "cell_type": "code",
   "execution_count": null,
   "id": "4c37cfa7",
   "metadata": {},
   "outputs": [],
   "source": [
    "\n",
    "\n",
    "\n",
    "\n"
   ]
  }
 ],
 "metadata": {
  "kernelspec": {
   "display_name": "Python 3 (ipykernel)",
   "language": "python",
   "name": "python3"
  },
  "language_info": {
   "codemirror_mode": {
    "name": "ipython",
    "version": 3
   },
   "file_extension": ".py",
   "mimetype": "text/x-python",
   "name": "python",
   "nbconvert_exporter": "python",
   "pygments_lexer": "ipython3",
   "version": "3.9.12"
  }
 },
 "nbformat": 4,
 "nbformat_minor": 5
}
